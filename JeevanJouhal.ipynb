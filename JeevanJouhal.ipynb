{
 "cells": [
  {
   "cell_type": "code",
   "execution_count": 150,
   "id": "205ec161-1d56-423d-8439-6d6438dba3e5",
   "metadata": {},
   "outputs": [
    {
     "name": "stdout",
     "output_type": "stream",
     "text": [
      "Hi\n",
      "43\n",
      "43\n",
      "{0: 'Allegheny Center', 1: 'Allegheny West', 2: 'Allentown', 3: 'Arlington', 4: 'Arlington Heights', 5: 'Banksville', 6: 'Bedford Dwellings', 7: 'Beechview', 8: 'Beltzhoover', 9: 'Bloomfield', 10: 'Bluff', 11: 'Bon Air', 12: 'Brighton Heights', 13: 'Brookline', 14: 'California-Kirkbride', 15: 'Carrick', 16: 'Central Business District', 17: 'Central Lawrenceville', 18: 'Central Northside', 19: 'Central Oakland', 20: 'Chartiers City', 21: 'Chateau', 22: 'Crafton Heights', 23: 'Crawford-Roberts', 24: 'Duquesne Heights', 25: 'East Allegheny', 26: 'East Carnegie', 27: 'East Hills', 28: 'East Liberty', 29: 'Elliott', 30: 'Esplen', 31: 'Fairywood', 32: 'Fineview', 33: 'Friendship', 34: 'Garfield', 35: 'Glen Hazel', 36: 'Greenfield', 37: 'Hays', 38: 'Hazelwood', 39: 'Highland Park', 40: 'Homewood North', 41: 'Homewood South', 42: 'Homewood West', 43: 'Knoxville', 44: 'Larimer', 45: 'Lincoln Place', 46: 'Lincoln-Lemington-Belmar', 47: 'Lower Lawrenceville', 48: 'Manchester', 49: 'Marshall-Shadeland', 50: 'Middle Hill', 51: 'Morningside', 52: 'Mount Oliver Borough', 53: 'Mount Washington', 54: 'Mt. Oliver', 55: 'New Homestead', 56: 'North Oakland', 57: 'North Shore', 58: 'Northview Heights', 59: 'Oakwood', 60: 'Overbrook', 61: 'Perry North', 62: 'Perry South', 63: 'Point Breeze', 64: 'Point Breeze North', 65: 'Polish Hill', 66: 'Regent Square', 67: 'Ridgemont', 68: 'Shadyside', 69: 'Sheraden', 70: 'South Oakland', 71: 'South Shore', 72: 'South Side Flats', 73: 'South Side Slopes', 74: 'Spring Garden', 75: 'Spring Hill-City View', 76: 'Squirrel Hill North', 77: 'Squirrel Hill South', 78: 'St. Clair', 79: 'Stanton Heights', 80: 'Strip District', 81: 'Summer Hill', 82: 'Swisshelm Park', 83: 'Terrace Village', 84: 'Troy Hill', 85: 'Upper Hill', 86: 'Upper Lawrenceville', 87: 'West End', 88: 'West Oakland', 89: 'Westwood', 90: 'Windgap'}\n"
     ]
    }
   ],
   "source": [
    "import pandas as pd\n",
    "list = {}\n",
    "insurance = pd.read_csv(\"types-of-health-insurance-coverage-by-age.csv\")\n",
    "insurance.head(100)\n",
    "for column in insurance:\n",
    "    count = 0\n",
    "    list[column] = {}\n",
    "    for row in insurance[column]:\n",
    "        list[column][count] = row\n",
    "        count += 1\n",
    "count = 0\n",
    "for name in list['Neighborhood']:\n",
    "    if list['Neighborhood'][count] == 'Knoxville':\n",
    "        print(\"Hi\")\n",
    "        i = count\n",
    "        print(i)\n",
    "        print(name)\n",
    "    count += 1\n",
    "print(list['Neighborhood'])"
   ]
  },
  {
   "cell_type": "code",
   "execution_count": null,
   "id": "e41ff3ae-52ef-4ad6-b8de-2f20fa4a4d06",
   "metadata": {},
   "outputs": [],
   "source": []
  }
 ],
 "metadata": {
  "kernelspec": {
   "display_name": "Python 3 (ipykernel)",
   "language": "python",
   "name": "python3"
  },
  "language_info": {
   "codemirror_mode": {
    "name": "ipython",
    "version": 3
   },
   "file_extension": ".py",
   "mimetype": "text/x-python",
   "name": "python",
   "nbconvert_exporter": "python",
   "pygments_lexer": "ipython3",
   "version": "3.12.4"
  }
 },
 "nbformat": 4,
 "nbformat_minor": 5
}
