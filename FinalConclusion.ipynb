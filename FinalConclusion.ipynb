{
 "cells": [
  {
   "cell_type": "markdown",
   "id": "5c93fec9-5637-421f-ad85-4a854e21548a",
   "metadata": {},
   "source": [
    "Each metric contributed 1/3 of the weight to the best neighborhood. We began by combining the rankings of fires and crimes. We then used that rankings and looked for which of the neighborhoods best fit in with the ranking of health insurance. This lead us to our conclusion that Mt. Oliver is the best neighborhood. We agree with this ranking because it scored very highly when we combined fires and crimes, so then we looked at its ranking for health insurance. Even though it was not as high there we concluded that since it ranked so highly in fire and crimes that would outweigh it not performing the best in health insurance. Also we concluded that if theres not as many crimes and fires around you your health insurance is less important. Even though this is what we got as the best neighborhood we all like other neighborhoods Shadyside, Southside, and Oakland better.\n"
   ]
  }
 ],
 "metadata": {
  "kernelspec": {
   "display_name": "Python 3 (ipykernel)",
   "language": "python",
   "name": "python3"
  },
  "language_info": {
   "codemirror_mode": {
    "name": "ipython",
    "version": 3
   },
   "file_extension": ".py",
   "mimetype": "text/x-python",
   "name": "python",
   "nbconvert_exporter": "python",
   "pygments_lexer": "ipython3",
   "version": "3.12.4"
  }
 },
 "nbformat": 4,
 "nbformat_minor": 5
}
