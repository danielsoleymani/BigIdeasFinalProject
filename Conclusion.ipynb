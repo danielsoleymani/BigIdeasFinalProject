{
 "cells": [
  {
   "cell_type": "markdown",
   "id": "5b631523-7a01-4e29-b26d-53b562b6459f",
   "metadata": {},
   "source": [
    "Each metric contributed 1/3 of the weight to the best neighborhood. We began by combining the rankings of fires and crimes. We then used that rankings and looked for which of the neighborhoods best fit in with the ranking of health insurance. This lead us to our conclusion that Duquesne Heights is the best neighborhood. We agree with this ranking because it scored highly on all three metrics leading to the safest neighborhood someone could live in.\n",
    "\n",
    "It scored _ in fire.\n",
    "It scored _ in crime.\n",
    "It scored _ in health insurance.\n",
    "\n",
    "On average that gives it a _."
   ]
  }
 ],
 "metadata": {
  "kernelspec": {
   "display_name": "Python 3 (ipykernel)",
   "language": "python",
   "name": "python3"
  },
  "language_info": {
   "codemirror_mode": {
    "name": "ipython",
    "version": 3
   },
   "file_extension": ".py",
   "mimetype": "text/x-python",
   "name": "python",
   "nbconvert_exporter": "python",
   "pygments_lexer": "ipython3",
   "version": "3.12.4"
  }
 },
 "nbformat": 4,
 "nbformat_minor": 5
}
