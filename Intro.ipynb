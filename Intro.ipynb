{
 "cells": [
  {
   "cell_type": "markdown",
   "id": "1a96060e-db3d-4534-990d-5f08e8d9c71e",
   "metadata": {},
   "source": [
    "We have decided to use safety to decide which neighborhood is best. We will be ranking each neighborhood based of number of fires, crime by neighborhood, and people under health insurance by neighborhood. We chose safety because we want to be able to feel safe in the neighborhood we are living in. "
   ]
  },
  {
   "cell_type": "markdown",
   "id": "f709dc92-d684-4464-bbad-4418e0885a03",
   "metadata": {},
   "source": [
    "Fires by neighborhood: https://data.wprdc.org/dataset/fire-incidents-in-city-of-pittsburgh/resource/8d76ac6b-5ae8-4428-82a4-043130d17b02\r\n",
    "\r\n",
    "Find the number of fires per neighborhood. Rank each neighborhood from lowest to highest based on how many fires there are. Also will take into account what kind of fire was caused. House fires causing more safety problems and small cooking fires being less."
   ]
  },
  {
   "cell_type": "markdown",
   "id": "c1cf9c1a-3c35-4d63-8161-2b828caa64e4",
   "metadata": {},
   "source": [
    "Crime by neighborhood https://data.wprdc.org/dataset/5e6711a3-90e5-457d-8c73-445fb5f363e2/resource/a0e233b3-8cfc-441a-a37e-d396579d20ea/download/archived-blotter-data-dictionary.xlsx\n",
    "\n",
    "Rank each neighborhood based number of crimes committed, as well as crime severity.\n",
    "\n",
    "Crime severity: UCR Hierarchy Number → Lower number = more severe crime.\n",
    "\n",
    "Data visualizations to include: Pie chart of all crimes with each slice being a neighborhood Crime severity chart Chart comparing severity and number of crimes"
   ]
  },
  {
   "cell_type": "markdown",
   "id": "88286724-ed16-4bc8-a48a-6c77090d55f4",
   "metadata": {},
   "source": [
    "People under Health Insurance by neighborhood https://data.wprdc.org/dataset/pittsburgh-american-community-survey-2015-miscellaneous-data/resource/c9fd5859-ed34-4151-a13e-d7a25839f4d3\r\n",
    "\r\n",
    "Rank each neighborhood based on the members that have any form of health insurance, taking into account the potential error reported on the members that may have health insurance. There will be a bar chart showing some of the top neighborhoods with a special chart also showing members of each age range and what type of insurance that they have.\r\n",
    "\r\n",
    "This is a project that evaluated the best neighborhood in Pittsburgh on account of three safety categories: crime in the area, number of fires, and amount of health insurance for each neighborhood."
   ]
  }
 ],
 "metadata": {
  "kernelspec": {
   "display_name": "Python 3 (ipykernel)",
   "language": "python",
   "name": "python3"
  },
  "language_info": {
   "codemirror_mode": {
    "name": "ipython",
    "version": 3
   },
   "file_extension": ".py",
   "mimetype": "text/x-python",
   "name": "python",
   "nbconvert_exporter": "python",
   "pygments_lexer": "ipython3",
   "version": "3.12.4"
  }
 },
 "nbformat": 4,
 "nbformat_minor": 5
}
